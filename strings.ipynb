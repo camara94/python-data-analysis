{
  "nbformat": 4,
  "nbformat_minor": 0,
  "metadata": {
    "colab": {
      "name": "strings.ipynb",
      "private_outputs": true,
      "provenance": []
    },
    "kernelspec": {
      "name": "python3",
      "display_name": "Python 3"
    },
    "language_info": {
      "name": "python"
    }
  },
  "cells": [
    {
      "cell_type": "markdown",
      "metadata": {
        "id": "-vv7Lhl-pxCz"
      },
      "source": [
        "\n",
        "## Python More on Strings\n",
        "---\n",
        "\n"
      ]
    },
    {
      "cell_type": "code",
      "metadata": {
        "id": "nGOk78dGpvpT"
      },
      "source": [
        "sales_records = {\n",
        "    'price': 3.24,\n",
        "    'num_items': 4,\n",
        "    'person': 'Chris'\n",
        "}\n",
        "\n",
        "sales_statements = '{} bought items(s) at a price of {} each for a total of {} '\n",
        "print( sales_statements.format(\n",
        "    sales_records['person'],\n",
        "    sales_records['price'],\n",
        "    sales_records['num_items']*sales_records['price']\n",
        ") )"
      ],
      "execution_count": null,
      "outputs": []
    },
    {
      "cell_type": "code",
      "metadata": {
        "id": "qk-DTQDrq9uX"
      },
      "source": [
        ""
      ],
      "execution_count": null,
      "outputs": []
    }
  ]
}